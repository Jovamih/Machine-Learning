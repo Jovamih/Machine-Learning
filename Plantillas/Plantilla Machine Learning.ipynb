{
 "cells": [
  {
   "cell_type": "markdown",
   "metadata": {},
   "source": [
    "# Nombre del Proyecto\n",
    "* Nombre que describa la escencia del proyecto en general"
   ]
  },
  {
   "cell_type": "markdown",
   "metadata": {},
   "source": [
    "## 1. Planteamiento del problema\n",
    "* Se busca que el problema satisfaga el objetivo del proyecto tras su solucion"
   ]
  },
  {
   "cell_type": "markdown",
   "metadata": {},
   "source": [
    "## 2. Metricas de evaluacion\n",
    "* Son las metricas que se usaran para evaluar la validez del modelo frente a los datos de prueba nunca vistos\n",
    "* Para clasificacion: **accuracy_score**, **precision**, **recall** e incluso **f1**\n",
    "* Para regresion:  **mean_squared_error (MSE)**,**RMSE**"
   ]
  },
  {
   "cell_type": "markdown",
   "metadata": {},
   "source": [
    "## 3. Preparacion de datos\n",
    "* Se ejecutan los pasos necesarios que empiezan desde la recopilacion de datos desde fuentes externas hasta la transformacion de datos lista para entrenarlo con el modelo(s) seleccionados\n"
   ]
  },
  {
   "cell_type": "markdown",
   "metadata": {},
   "source": [
    "### 3.1 Preprocesamiento de datos\n",
    "* Fase que involucra la obtencion ,limpieza de datos, imputacion de valores faltantes e incluso eliminacion de muestras duplicadas para el posterior analisis de estos"
   ]
  },
  {
   "cell_type": "markdown",
   "metadata": {},
   "source": [
    "### 3.2 Exploracion de datos\n",
    "* En esta fase analizo los datos a traves de metodos extadisticos para ver su calidad y distribucion a traves del tiempo (Si se trata de series temporales).\n",
    "* Es util para identificar tipos de datos categoricos (ordinales y nominales), y numericos (discretas y continuas)\n",
    "* Identificar valores atipicos en la distribucion de los datos"
   ]
  },
  {
   "cell_type": "markdown",
   "metadata": {},
   "source": [
    "### 3.3 Seleccion de caracteristicas\n",
    "* En esta fase seleccionamos las mejores las caracteristicas  que se usaran en los datos de entrenamiento y Testeo. Usaremos diversos algoritmos para determinar cuales se destacan sobre las otras\n",
    "* Si las caracteristicas presentan puntajes similares o piensas que esta variable a dado puntajes bajos pero asu vez es escencial en el datasets, es recomendable preservarlas,y si el modelo no da los resultados esperados, empezariamos a eliminar esta(s) variables(s)"
   ]
  },
  {
   "cell_type": "markdown",
   "metadata": {},
   "source": [
    "### 3.4 Procesamiento de datos\n",
    "* Si existen  variables Categoricas se recomienda codificarlas\n",
    "* Se recomienda un escalado de variables.Oj. Se recomienda Usar un Pipeline() para escalar los datos de forma automatica durante el entrenamiento del modelo"
   ]
  },
  {
   "cell_type": "markdown",
   "metadata": {},
   "source": [
    "## 4. Seleccion del modelo\n",
    "* En esta etapa seleccionamos el modelo(s) que mejor se ajuste(n) a los datos de entrenamiento y usaremos tecnicas para reducir el sobreajuste de estos"
   ]
  },
  {
   "cell_type": "markdown",
   "metadata": {},
   "source": [
    "### 4.1 Escojer el mejor modelo\n",
    "\n",
    "* \"El mejor modelo\" es aquel que se adapta mejor y de manera natural a los dato de entrenamiento. Durante esta etapa, como se suele pensar, no solo escogemos un modelo, sino varios si estos poseen puntajes similares con el objetivo de mejoralos y evaluarlos en la etapa de validacion. Por otro lado tendremos onsideracion con aquellos que poseen puntajes menores si es que estos poseen habilidades diferentes a nuestros modelos, es decir, predicen mejor en otrs ambitos que nuestro(s) modelos(s) seleccionados no pueden para asi evaluar un posible **Stacking** de modelos.\n",
    "* **reglas**\n",
    "* Todos los modelos se evaluaran con las mismas metricas\n",
    "* El ajuste de hiperparametros no es necesario, debido a que todos deben estar al mismo nivel al evaluarse\n",
    " \n",
    " * OJO: Si,esverdad que existen modelos que dpenden de sus hiperparametros para sr evaluados como SVC, RandomForest entre otros. Por ello se da la oportunidad de escojer uno o mas modelos y tener en cuenta aquel que se adapte de manera natura alos datos de entrenamiento\n"
   ]
  },
  {
   "cell_type": "markdown",
   "metadata": {},
   "source": [
    "### 4.2 Ajustar el modelo\n",
    "* En esta etapa usaremos metodos para reducir el sobreajuste y mejorar la precision de nuestro modelo, esto sera atraves de **Tuning de Hiperparametros**, **Validacion cruzada**,**Curvas de validacion** e incluso **Learning Curve** para evaluar como mejoraria el modelo ante el incremento de datos de entrenamiento. "
   ]
  },
  {
   "cell_type": "markdown",
   "metadata": {},
   "source": [
    "## 5. Validacion del modelo final\n",
    "* Aqui se evalua el rendimiento del modelo en datos nunca antes vistos, para saber si ha logrado aprender. Si el modelo es exitoso evaluamos la posibilidad de entrenarlo con todos los datos de entrenamiento y validacionm,y catalogarlo com listo para produccion"
   ]
  },
  {
   "cell_type": "markdown",
   "metadata": {},
   "source": [
    "## 6. Evaluacion de modelos Finales\n",
    "* Si muchos modelos obtuvieron puntajes prometedores similares al momento de determinar \"El mejor modelo\", esta etapa es la adecuada para determinar que modelo tiene mucho mas precision que el resto.\n",
    "* O por el contrario podriamos evaluar un **stacking** de modelos de Machine learning, tanto si obtuvieron u n puntaje considerable o no, y ver si la union de estos mejora mucho mas la prediccion de nuestros datos"
   ]
  }
 ],
 "metadata": {
  "kernelspec": {
   "display_name": "Python 3",
   "language": "python",
   "name": "python3"
  },
  "language_info": {
   "codemirror_mode": {
    "name": "ipython",
    "version": 3
   },
   "file_extension": ".py",
   "mimetype": "text/x-python",
   "name": "python",
   "nbconvert_exporter": "python",
   "pygments_lexer": "ipython3",
   "version": "3.7.7"
  }
 },
 "nbformat": 4,
 "nbformat_minor": 4
}
