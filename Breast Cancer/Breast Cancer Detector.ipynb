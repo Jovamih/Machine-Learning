{
 "cells": [
  {
   "cell_type": "markdown",
   "metadata": {},
   "source": [
    "# Deteccion del Cancer de Mama en la ciudad de Winsconsin\n",
    "* El siguiente analisis predictivo usaremos heramientas de Machine learning para lograr detectar el Cancer\n",
    "  de mama en funcion de sus carateristicas"
   ]
  },
  {
   "cell_type": "markdown",
   "metadata": {},
   "source": [
    "## 1.Planteamiento del problema\n",
    "* Obteneer un modelo de machine learning para hallar el cancer de mama a temprana edad"
   ]
  },
  {
   "cell_type": "markdown",
   "metadata": {},
   "source": [
    "## 2. Metricas de evaluacion\n",
    "* Al tratarse de un problema de clasificacion (Tal y como cataloga el repositorio UCI) usaremos metricas como **accuracy** ,**f1**,**recall**,**precision**. La mas importante es **f1** ya que tiene mejor desenvolvimiento con los datos desbalanceados, y orientacion en la metrica de falsos positivos. "
   ]
  },
  {
   "cell_type": "markdown",
   "metadata": {},
   "source": [
    "## 3. Preparacion de datos\n",
    "### 3.1 Preprocesamiento de datos"
   ]
  },
  {
   "cell_type": "code",
   "execution_count": 115,
   "metadata": {},
   "outputs": [],
   "source": [
    "%matplotlib inline\n",
    "#cargamos los datos\n",
    "import pandas as pd  \n",
    "import numpy as np \n",
    "import matplotlib.pyplot as plt\n",
    "import seaborn as sns; sns.set()\n",
    "from pandas_profiling import ProfileReport\n"
   ]
  },
  {
   "cell_type": "code",
   "execution_count": 116,
   "metadata": {},
   "outputs": [],
   "source": [
    "\n",
    "names=['Sample-code-number','Clump-Thickness','USize','UShape','Marginal-adhesion','SingleEpSize','BareNuclei','BlandCh','NormalNucleoi','Mitoses','Class']"
   ]
  },
  {
   "cell_type": "code",
   "execution_count": 117,
   "metadata": {},
   "outputs": [],
   "source": [
    "data=pd.read_csv(r\"https://archive.ics.uci.edu/ml/machine-learning-databases/breast-cancer-wisconsin/breast-cancer-wisconsin.data\",names=names)"
   ]
  },
  {
   "cell_type": "code",
   "execution_count": 118,
   "metadata": {},
   "outputs": [
    {
     "data": {
      "text/html": [
       "<div>\n",
       "<style scoped>\n",
       "    .dataframe tbody tr th:only-of-type {\n",
       "        vertical-align: middle;\n",
       "    }\n",
       "\n",
       "    .dataframe tbody tr th {\n",
       "        vertical-align: top;\n",
       "    }\n",
       "\n",
       "    .dataframe thead th {\n",
       "        text-align: right;\n",
       "    }\n",
       "</style>\n",
       "<table border=\"1\" class=\"dataframe\">\n",
       "  <thead>\n",
       "    <tr style=\"text-align: right;\">\n",
       "      <th></th>\n",
       "      <th>Sample-code-number</th>\n",
       "      <th>Clump-Thickness</th>\n",
       "      <th>USize</th>\n",
       "      <th>UShape</th>\n",
       "      <th>Marginal-adhesion</th>\n",
       "      <th>SingleEpSize</th>\n",
       "      <th>BareNuclei</th>\n",
       "      <th>BlandCh</th>\n",
       "      <th>NormalNucleoi</th>\n",
       "      <th>Mitoses</th>\n",
       "      <th>Class</th>\n",
       "    </tr>\n",
       "  </thead>\n",
       "  <tbody>\n",
       "    <tr>\n",
       "      <th>0</th>\n",
       "      <td>1000025</td>\n",
       "      <td>5</td>\n",
       "      <td>1</td>\n",
       "      <td>1</td>\n",
       "      <td>1</td>\n",
       "      <td>2</td>\n",
       "      <td>1</td>\n",
       "      <td>3</td>\n",
       "      <td>1</td>\n",
       "      <td>1</td>\n",
       "      <td>2</td>\n",
       "    </tr>\n",
       "    <tr>\n",
       "      <th>1</th>\n",
       "      <td>1002945</td>\n",
       "      <td>5</td>\n",
       "      <td>4</td>\n",
       "      <td>4</td>\n",
       "      <td>5</td>\n",
       "      <td>7</td>\n",
       "      <td>10</td>\n",
       "      <td>3</td>\n",
       "      <td>2</td>\n",
       "      <td>1</td>\n",
       "      <td>2</td>\n",
       "    </tr>\n",
       "    <tr>\n",
       "      <th>2</th>\n",
       "      <td>1015425</td>\n",
       "      <td>3</td>\n",
       "      <td>1</td>\n",
       "      <td>1</td>\n",
       "      <td>1</td>\n",
       "      <td>2</td>\n",
       "      <td>2</td>\n",
       "      <td>3</td>\n",
       "      <td>1</td>\n",
       "      <td>1</td>\n",
       "      <td>2</td>\n",
       "    </tr>\n",
       "    <tr>\n",
       "      <th>3</th>\n",
       "      <td>1016277</td>\n",
       "      <td>6</td>\n",
       "      <td>8</td>\n",
       "      <td>8</td>\n",
       "      <td>1</td>\n",
       "      <td>3</td>\n",
       "      <td>4</td>\n",
       "      <td>3</td>\n",
       "      <td>7</td>\n",
       "      <td>1</td>\n",
       "      <td>2</td>\n",
       "    </tr>\n",
       "    <tr>\n",
       "      <th>4</th>\n",
       "      <td>1017023</td>\n",
       "      <td>4</td>\n",
       "      <td>1</td>\n",
       "      <td>1</td>\n",
       "      <td>3</td>\n",
       "      <td>2</td>\n",
       "      <td>1</td>\n",
       "      <td>3</td>\n",
       "      <td>1</td>\n",
       "      <td>1</td>\n",
       "      <td>2</td>\n",
       "    </tr>\n",
       "  </tbody>\n",
       "</table>\n",
       "</div>"
      ],
      "text/plain": [
       "   Sample-code-number  Clump-Thickness  USize  UShape  Marginal-adhesion  \\\n",
       "0             1000025                5      1       1                  1   \n",
       "1             1002945                5      4       4                  5   \n",
       "2             1015425                3      1       1                  1   \n",
       "3             1016277                6      8       8                  1   \n",
       "4             1017023                4      1       1                  3   \n",
       "\n",
       "   SingleEpSize BareNuclei  BlandCh  NormalNucleoi  Mitoses  Class  \n",
       "0             2          1        3              1        1      2  \n",
       "1             7         10        3              2        1      2  \n",
       "2             2          2        3              1        1      2  \n",
       "3             3          4        3              7        1      2  \n",
       "4             2          1        3              1        1      2  "
      ]
     },
     "execution_count": 118,
     "metadata": {},
     "output_type": "execute_result"
    }
   ],
   "source": [
    "data.head()"
   ]
  },
  {
   "cell_type": "code",
   "execution_count": 119,
   "metadata": {},
   "outputs": [
    {
     "data": {
      "text/plain": [
       "(699, 11)"
      ]
     },
     "execution_count": 119,
     "metadata": {},
     "output_type": "execute_result"
    }
   ],
   "source": [
    "data.shape "
   ]
  },
  {
   "cell_type": "code",
   "execution_count": 120,
   "metadata": {},
   "outputs": [
    {
     "data": {
      "text/html": [
       "<div>\n",
       "<style scoped>\n",
       "    .dataframe tbody tr th:only-of-type {\n",
       "        vertical-align: middle;\n",
       "    }\n",
       "\n",
       "    .dataframe tbody tr th {\n",
       "        vertical-align: top;\n",
       "    }\n",
       "\n",
       "    .dataframe thead th {\n",
       "        text-align: right;\n",
       "    }\n",
       "</style>\n",
       "<table border=\"1\" class=\"dataframe\">\n",
       "  <thead>\n",
       "    <tr style=\"text-align: right;\">\n",
       "      <th></th>\n",
       "      <th>Sample-code-number</th>\n",
       "      <th>Clump-Thickness</th>\n",
       "      <th>USize</th>\n",
       "      <th>UShape</th>\n",
       "      <th>Marginal-adhesion</th>\n",
       "      <th>SingleEpSize</th>\n",
       "      <th>BlandCh</th>\n",
       "      <th>NormalNucleoi</th>\n",
       "      <th>Mitoses</th>\n",
       "      <th>Class</th>\n",
       "    </tr>\n",
       "  </thead>\n",
       "  <tbody>\n",
       "    <tr>\n",
       "      <th>count</th>\n",
       "      <td>6.990000e+02</td>\n",
       "      <td>699.000000</td>\n",
       "      <td>699.000000</td>\n",
       "      <td>699.000000</td>\n",
       "      <td>699.000000</td>\n",
       "      <td>699.000000</td>\n",
       "      <td>699.000000</td>\n",
       "      <td>699.000000</td>\n",
       "      <td>699.000000</td>\n",
       "      <td>699.000000</td>\n",
       "    </tr>\n",
       "    <tr>\n",
       "      <th>mean</th>\n",
       "      <td>1.071704e+06</td>\n",
       "      <td>4.417740</td>\n",
       "      <td>3.134478</td>\n",
       "      <td>3.207439</td>\n",
       "      <td>2.806867</td>\n",
       "      <td>3.216023</td>\n",
       "      <td>3.437768</td>\n",
       "      <td>2.866953</td>\n",
       "      <td>1.589413</td>\n",
       "      <td>2.689557</td>\n",
       "    </tr>\n",
       "    <tr>\n",
       "      <th>std</th>\n",
       "      <td>6.170957e+05</td>\n",
       "      <td>2.815741</td>\n",
       "      <td>3.051459</td>\n",
       "      <td>2.971913</td>\n",
       "      <td>2.855379</td>\n",
       "      <td>2.214300</td>\n",
       "      <td>2.438364</td>\n",
       "      <td>3.053634</td>\n",
       "      <td>1.715078</td>\n",
       "      <td>0.951273</td>\n",
       "    </tr>\n",
       "    <tr>\n",
       "      <th>min</th>\n",
       "      <td>6.163400e+04</td>\n",
       "      <td>1.000000</td>\n",
       "      <td>1.000000</td>\n",
       "      <td>1.000000</td>\n",
       "      <td>1.000000</td>\n",
       "      <td>1.000000</td>\n",
       "      <td>1.000000</td>\n",
       "      <td>1.000000</td>\n",
       "      <td>1.000000</td>\n",
       "      <td>2.000000</td>\n",
       "    </tr>\n",
       "    <tr>\n",
       "      <th>25%</th>\n",
       "      <td>8.706885e+05</td>\n",
       "      <td>2.000000</td>\n",
       "      <td>1.000000</td>\n",
       "      <td>1.000000</td>\n",
       "      <td>1.000000</td>\n",
       "      <td>2.000000</td>\n",
       "      <td>2.000000</td>\n",
       "      <td>1.000000</td>\n",
       "      <td>1.000000</td>\n",
       "      <td>2.000000</td>\n",
       "    </tr>\n",
       "    <tr>\n",
       "      <th>50%</th>\n",
       "      <td>1.171710e+06</td>\n",
       "      <td>4.000000</td>\n",
       "      <td>1.000000</td>\n",
       "      <td>1.000000</td>\n",
       "      <td>1.000000</td>\n",
       "      <td>2.000000</td>\n",
       "      <td>3.000000</td>\n",
       "      <td>1.000000</td>\n",
       "      <td>1.000000</td>\n",
       "      <td>2.000000</td>\n",
       "    </tr>\n",
       "    <tr>\n",
       "      <th>75%</th>\n",
       "      <td>1.238298e+06</td>\n",
       "      <td>6.000000</td>\n",
       "      <td>5.000000</td>\n",
       "      <td>5.000000</td>\n",
       "      <td>4.000000</td>\n",
       "      <td>4.000000</td>\n",
       "      <td>5.000000</td>\n",
       "      <td>4.000000</td>\n",
       "      <td>1.000000</td>\n",
       "      <td>4.000000</td>\n",
       "    </tr>\n",
       "    <tr>\n",
       "      <th>max</th>\n",
       "      <td>1.345435e+07</td>\n",
       "      <td>10.000000</td>\n",
       "      <td>10.000000</td>\n",
       "      <td>10.000000</td>\n",
       "      <td>10.000000</td>\n",
       "      <td>10.000000</td>\n",
       "      <td>10.000000</td>\n",
       "      <td>10.000000</td>\n",
       "      <td>10.000000</td>\n",
       "      <td>4.000000</td>\n",
       "    </tr>\n",
       "  </tbody>\n",
       "</table>\n",
       "</div>"
      ],
      "text/plain": [
       "       Sample-code-number  Clump-Thickness       USize      UShape  \\\n",
       "count        6.990000e+02       699.000000  699.000000  699.000000   \n",
       "mean         1.071704e+06         4.417740    3.134478    3.207439   \n",
       "std          6.170957e+05         2.815741    3.051459    2.971913   \n",
       "min          6.163400e+04         1.000000    1.000000    1.000000   \n",
       "25%          8.706885e+05         2.000000    1.000000    1.000000   \n",
       "50%          1.171710e+06         4.000000    1.000000    1.000000   \n",
       "75%          1.238298e+06         6.000000    5.000000    5.000000   \n",
       "max          1.345435e+07        10.000000   10.000000   10.000000   \n",
       "\n",
       "       Marginal-adhesion  SingleEpSize     BlandCh  NormalNucleoi     Mitoses  \\\n",
       "count         699.000000    699.000000  699.000000     699.000000  699.000000   \n",
       "mean            2.806867      3.216023    3.437768       2.866953    1.589413   \n",
       "std             2.855379      2.214300    2.438364       3.053634    1.715078   \n",
       "min             1.000000      1.000000    1.000000       1.000000    1.000000   \n",
       "25%             1.000000      2.000000    2.000000       1.000000    1.000000   \n",
       "50%             1.000000      2.000000    3.000000       1.000000    1.000000   \n",
       "75%             4.000000      4.000000    5.000000       4.000000    1.000000   \n",
       "max            10.000000     10.000000   10.000000      10.000000   10.000000   \n",
       "\n",
       "            Class  \n",
       "count  699.000000  \n",
       "mean     2.689557  \n",
       "std      0.951273  \n",
       "min      2.000000  \n",
       "25%      2.000000  \n",
       "50%      2.000000  \n",
       "75%      4.000000  \n",
       "max      4.000000  "
      ]
     },
     "execution_count": 120,
     "metadata": {},
     "output_type": "execute_result"
    }
   ],
   "source": [
    "data.describe() "
   ]
  },
  {
   "cell_type": "code",
   "execution_count": 121,
   "metadata": {},
   "outputs": [
    {
     "name": "stdout",
     "output_type": "stream",
     "text": [
      "<class 'pandas.core.frame.DataFrame'>\n",
      "RangeIndex: 699 entries, 0 to 698\n",
      "Data columns (total 11 columns):\n",
      " #   Column              Non-Null Count  Dtype \n",
      "---  ------              --------------  ----- \n",
      " 0   Sample-code-number  699 non-null    int64 \n",
      " 1   Clump-Thickness     699 non-null    int64 \n",
      " 2   USize               699 non-null    int64 \n",
      " 3   UShape              699 non-null    int64 \n",
      " 4   Marginal-adhesion   699 non-null    int64 \n",
      " 5   SingleEpSize        699 non-null    int64 \n",
      " 6   BareNuclei          699 non-null    object\n",
      " 7   BlandCh             699 non-null    int64 \n",
      " 8   NormalNucleoi       699 non-null    int64 \n",
      " 9   Mitoses             699 non-null    int64 \n",
      " 10  Class               699 non-null    int64 \n",
      "dtypes: int64(10), object(1)\n",
      "memory usage: 60.2+ KB\n"
     ]
    }
   ],
   "source": [
    "data.info() "
   ]
  },
  {
   "cell_type": "code",
   "execution_count": 122,
   "metadata": {},
   "outputs": [
    {
     "data": {
      "text/plain": [
       "Sample-code-number    0\n",
       "Clump-Thickness       0\n",
       "USize                 0\n",
       "UShape                0\n",
       "Marginal-adhesion     0\n",
       "SingleEpSize          0\n",
       "BareNuclei            0\n",
       "BlandCh               0\n",
       "NormalNucleoi         0\n",
       "Mitoses               0\n",
       "Class                 0\n",
       "dtype: int64"
      ]
     },
     "execution_count": 122,
     "metadata": {},
     "output_type": "execute_result"
    }
   ],
   "source": [
    "#veamos si hay nulos\n",
    "data.isnull().sum()"
   ]
  },
  {
   "cell_type": "code",
   "execution_count": 123,
   "metadata": {},
   "outputs": [],
   "source": [
    "#por suerte no hay nulos.\n",
    "#pero detectaos que '?' es detectado como nulo\n",
    "data.replace('?',np.nan,inplace=True)\n",
    "#Entonces tenemosque ir a la exploracion de datos"
   ]
  },
  {
   "cell_type": "code",
   "execution_count": 124,
   "metadata": {},
   "outputs": [
    {
     "data": {
      "text/plain": [
       "Sample-code-number     0\n",
       "Clump-Thickness        0\n",
       "USize                  0\n",
       "UShape                 0\n",
       "Marginal-adhesion      0\n",
       "SingleEpSize           0\n",
       "BareNuclei            16\n",
       "BlandCh                0\n",
       "NormalNucleoi          0\n",
       "Mitoses                0\n",
       "Class                  0\n",
       "dtype: int64"
      ]
     },
     "execution_count": 124,
     "metadata": {},
     "output_type": "execute_result"
    }
   ],
   "source": [
    "data.isnull().sum() "
   ]
  },
  {
   "cell_type": "code",
   "execution_count": 125,
   "metadata": {},
   "outputs": [
    {
     "data": {
      "text/plain": [
       "Sample-code-number    0\n",
       "Clump-Thickness       0\n",
       "USize                 0\n",
       "UShape                0\n",
       "Marginal-adhesion     0\n",
       "SingleEpSize          0\n",
       "BareNuclei            0\n",
       "BlandCh               0\n",
       "NormalNucleoi         0\n",
       "Mitoses               0\n",
       "Class                 0\n",
       "dtype: int64"
      ]
     },
     "execution_count": 125,
     "metadata": {},
     "output_type": "execute_result"
    }
   ],
   "source": [
    "#como son discretas lo remplazaremos por la moda, el valor mas frecuente\n",
    "moda=data['BareNuclei'].mode()[0]\n",
    "data['BareNuclei']=data['BareNuclei'].replace(np.nan,moda)\n",
    "\n",
    "#y verificamos su asignacion\n",
    "data.isnull().sum() "
   ]
  },
  {
   "cell_type": "code",
   "execution_count": 126,
   "metadata": {},
   "outputs": [
    {
     "data": {
      "text/plain": [
       "9"
      ]
     },
     "execution_count": 126,
     "metadata": {},
     "output_type": "execute_result"
    }
   ],
   "source": [
    "data.duplicated().sum()"
   ]
  },
  {
   "cell_type": "code",
   "execution_count": 127,
   "metadata": {},
   "outputs": [
    {
     "data": {
      "text/plain": [
       "645"
      ]
     },
     "execution_count": 127,
     "metadata": {},
     "output_type": "execute_result"
    }
   ],
   "source": [
    "len(data['Sample-code-number'].unique())"
   ]
  },
  {
   "cell_type": "code",
   "execution_count": 128,
   "metadata": {},
   "outputs": [],
   "source": [
    "#La prescencia de valores duplicados se realiza en la exploracion de datos como luego de la seleccion de caracteriticas : Ojo. Importante\n",
    "data.drop_duplicates(inplace=True) "
   ]
  },
  {
   "cell_type": "code",
   "execution_count": 129,
   "metadata": {},
   "outputs": [],
   "source": [
    "#una vez borrado los elementos redundantes\n",
    "#debido a que nos nos muestra el codigo del numero de muestra 'Sample-code-number'"
   ]
  },
  {
   "cell_type": "code",
   "execution_count": 130,
   "metadata": {},
   "outputs": [
    {
     "data": {
      "text/plain": [
       "(690, 11)"
      ]
     },
     "execution_count": 130,
     "metadata": {},
     "output_type": "execute_result"
    }
   ],
   "source": [
    "data.shape "
   ]
  },
  {
   "cell_type": "markdown",
   "metadata": {},
   "source": [
    "### 3.2 Exploracion de datos"
   ]
  },
  {
   "cell_type": "code",
   "execution_count": 131,
   "metadata": {},
   "outputs": [
    {
     "data": {
      "image/png": "[encoded data removed]",
      "text/plain": [
       "<Figure size 720x1440 with 10 Axes>"
      ]
     },
     "metadata": {},
     "output_type": "display_data"
    }
   ],
   "source": [
    "#1re enfoque: Hacerlo todo manual y deectar valor atipicos\n",
    "#podemos apreciar el ID qu no guarda relacion con nada, pero lo dejaremos para la Feature_selection\n",
    "#como los valores hacen referencia a grados, \n",
    "\n",
    "fig,axes=plt.subplots(5,2,figsize=(10,20 ))\n",
    "for ax,column in zip(axes.flat,data.columns[1:]):\n",
    "    sns.countplot(data[column],ax=ax)\n",
    "\n",
    "\n",
    "#2doEnfoque: Usar pandas-profiling (Libreria que hace el analisis de forma automatica)"
   ]
  },
  {
   "cell_type": "code",
   "execution_count": 132,
   "metadata": {},
   "outputs": [
    {
     "data": {
      "text/plain": [
       "array([2, 4], dtype=int64)"
      ]
     },
     "execution_count": 132,
     "metadata": {},
     "output_type": "execute_result"
    }
   ],
   "source": [
    "#ya habiendo analizado las clases, verificaremos las categorias de target\n",
    "data['Class'].unique() "
   ]
  },
  {
   "cell_type": "code",
   "execution_count": 133,
   "metadata": {},
   "outputs": [
    {
     "data": {
      "text/plain": [
       "2    452\n",
       "4    238\n",
       "Name: Class, dtype: int64"
      ]
     },
     "execution_count": 133,
     "metadata": {},
     "output_type": "execute_result"
    }
   ],
   "source": [
    "data['Class'].value_counts()"
   ]
  },
  {
   "cell_type": "code",
   "execution_count": 134,
   "metadata": {},
   "outputs": [
    {
     "data": {
      "text/html": [
       "<div>\n",
       "<style scoped>\n",
       "    .dataframe tbody tr th:only-of-type {\n",
       "        vertical-align: middle;\n",
       "    }\n",
       "\n",
       "    .dataframe tbody tr th {\n",
       "        vertical-align: top;\n",
       "    }\n",
       "\n",
       "    .dataframe thead th {\n",
       "        text-align: right;\n",
       "    }\n",
       "</style>\n",
       "<table border=\"1\" class=\"dataframe\">\n",
       "  <thead>\n",
       "    <tr style=\"text-align: right;\">\n",
       "      <th></th>\n",
       "      <th>Mediana</th>\n",
       "      <th>Moda</th>\n",
       "    </tr>\n",
       "  </thead>\n",
       "  <tbody>\n",
       "    <tr>\n",
       "      <th>Clump-Thickness</th>\n",
       "      <td>4.0</td>\n",
       "      <td>1</td>\n",
       "    </tr>\n",
       "    <tr>\n",
       "      <th>USize</th>\n",
       "      <td>1.0</td>\n",
       "      <td>1</td>\n",
       "    </tr>\n",
       "    <tr>\n",
       "      <th>UShape</th>\n",
       "      <td>1.0</td>\n",
       "      <td>1</td>\n",
       "    </tr>\n",
       "    <tr>\n",
       "      <th>Marginal-adhesion</th>\n",
       "      <td>1.0</td>\n",
       "      <td>1</td>\n",
       "    </tr>\n",
       "    <tr>\n",
       "      <th>SingleEpSize</th>\n",
       "      <td>2.0</td>\n",
       "      <td>2</td>\n",
       "    </tr>\n",
       "    <tr>\n",
       "      <th>BareNuclei</th>\n",
       "      <td>1.0</td>\n",
       "      <td>1</td>\n",
       "    </tr>\n",
       "    <tr>\n",
       "      <th>BlandCh</th>\n",
       "      <td>3.0</td>\n",
       "      <td>2</td>\n",
       "    </tr>\n",
       "    <tr>\n",
       "      <th>NormalNucleoi</th>\n",
       "      <td>1.0</td>\n",
       "      <td>1</td>\n",
       "    </tr>\n",
       "    <tr>\n",
       "      <th>Mitoses</th>\n",
       "      <td>1.0</td>\n",
       "      <td>1</td>\n",
       "    </tr>\n",
       "    <tr>\n",
       "      <th>Class</th>\n",
       "      <td>2.0</td>\n",
       "      <td>2</td>\n",
       "    </tr>\n",
       "  </tbody>\n",
       "</table>\n",
       "</div>"
      ],
      "text/plain": [
       "                   Mediana Moda\n",
       "Clump-Thickness        4.0    1\n",
       "USize                  1.0    1\n",
       "UShape                 1.0    1\n",
       "Marginal-adhesion      1.0    1\n",
       "SingleEpSize           2.0    2\n",
       "BareNuclei             1.0    1\n",
       "BlandCh                3.0    2\n",
       "NormalNucleoi          1.0    1\n",
       "Mitoses                1.0    1\n",
       "Class                  2.0    2"
      ]
     },
     "execution_count": 134,
     "metadata": {},
     "output_type": "execute_result"
    }
   ],
   "source": [
    "#usariamos las metricas mas conocidas, como media, e incluso analisi de outliers. Pero observamos muchas variables discretas y no continuas\n",
    "result={'Mediana':list(),\n",
    "        'Moda':list()}\n",
    "for column in data.columns[1:]:\n",
    "    result['Mediana'].append(data[column].median())\n",
    "    result['Moda'].append(data[column].mode()[0])\n",
    "    \n",
    "pd.DataFrame(result,index=data.columns[1:])"
   ]
  },
  {
   "cell_type": "markdown",
   "metadata": {},
   "source": [
    "### 3.3 Seleccion de caracteristicas\n",
    "* Al tratarse de un problema de clasificacion con entradas numericas y salidas categoricas\n",
    "usaremos ANOVA reflejado en f_classif"
   ]
  },
  {
   "cell_type": "code",
   "execution_count": 135,
   "metadata": {},
   "outputs": [],
   "source": [
    "\n",
    "data['BareNuclei']=data['BareNuclei'].astype('int64') "
   ]
  },
  {
   "cell_type": "code",
   "execution_count": 136,
   "metadata": {},
   "outputs": [
    {
     "data": {
      "text/plain": [
       "0"
      ]
     },
     "execution_count": 136,
     "metadata": {},
     "output_type": "execute_result"
    }
   ],
   "source": [
    "#eliminaremos los registros duplicados. Ojo si en el problema se tratn Series temporales, no se debe elimnar registros identicos\n",
    "#porue afectaria al modelo, En este caso no hay relacion alguna con el tiempo\n",
    "data.duplicated().sum()  "
   ]
  },
  {
   "cell_type": "code",
   "execution_count": 137,
   "metadata": {},
   "outputs": [],
   "source": [
    "#data.drop_duplicates(inplace=True)\n",
    "data=data.drop('Sample-code-number',axis=1)"
   ]
  },
  {
   "cell_type": "code",
   "execution_count": 138,
   "metadata": {},
   "outputs": [],
   "source": [
    "#Transformamos las salidas categoricas 4 (maligno) a 0 y 2(Benigno) a 0) de esta manera preservamos la codificacion categorica\n",
    "data=data.replace({4:1,2:0})"
   ]
  },
  {
   "cell_type": "code",
   "execution_count": 139,
   "metadata": {},
   "outputs": [
    {
     "name": "stdout",
     "output_type": "stream",
     "text": [
      "<class 'pandas.core.frame.DataFrame'>\n",
      "Int64Index: 690 entries, 0 to 698\n",
      "Data columns (total 10 columns):\n",
      " #   Column             Non-Null Count  Dtype\n",
      "---  ------             --------------  -----\n",
      " 0   Clump-Thickness    690 non-null    int64\n",
      " 1   USize              690 non-null    int64\n",
      " 2   UShape             690 non-null    int64\n",
      " 3   Marginal-adhesion  690 non-null    int64\n",
      " 4   SingleEpSize       690 non-null    int64\n",
      " 5   BareNuclei         690 non-null    int64\n",
      " 6   BlandCh            690 non-null    int64\n",
      " 7   NormalNucleoi      690 non-null    int64\n",
      " 8   Mitoses            690 non-null    int64\n",
      " 9   Class              690 non-null    int64\n",
      "dtypes: int64(10)\n",
      "memory usage: 79.3 KB\n"
     ]
    }
   ],
   "source": [
    "data.info() "
   ]
  },
  {
   "cell_type": "code",
   "execution_count": 140,
   "metadata": {},
   "outputs": [
    {
     "data": {
      "text/plain": [
       "<matplotlib.axes._subplots.AxesSubplot at 0x213e51482c8>"
      ]
     },
     "execution_count": 140,
     "metadata": {},
     "output_type": "execute_result"
    },
    {
     "data": {
      "image/png": "[encoded data removed]",
      "text/plain": [
       "<Figure size 432x288 with 2 Axes>"
      ]
     },
     "metadata": {},
     "output_type": "display_data"
    }
   ],
   "source": [
    "#veamos la correlacion de variables que funciona con variables numericas y en el caso de la regression\n",
    "corr=data.corr(method='pearson')\n",
    "\n",
    "#os resultados seran erroneos debido que no se ha hecho la seleccion adeuada para el tipo de problema adecuada\n",
    "#Entradas numericas- salidas categoricas--> Problema de clasificacion: Se usara el coeficiente de correlacion de ANOVA **f_classif**\n",
    "sns.heatmap(corr,annot=True,fmt='0.2f')"
   ]
  },
  {
   "cell_type": "markdown",
   "metadata": {},
   "source": [
    "* podemos observar que los resultados seerian alentadores si en verdad se tratara de una regression. Por lo que las usaremos la seleccion de caracteristicas adecuadas"
   ]
  },
  {
   "cell_type": "code",
   "execution_count": 141,
   "metadata": {},
   "outputs": [],
   "source": [
    "from sklearn.feature_selection import SelectKBest\n",
    "from sklearn.feature_selection import f_classif"
   ]
  },
  {
   "cell_type": "code",
   "execution_count": 142,
   "metadata": {},
   "outputs": [],
   "source": [
    "def feature_select(X,y,func=None,n='all'):\n",
    "    fs=SelectKBest(score_func=func,k=n)\n",
    "    fs.fit(X,y)\n",
    "    columns=data.columns[:-1] \n",
    "    plt.bar(np.arange(len(columns)),fs.scores_)\n",
    "    plt.xticks(np.arange(len(columns)),columns)\n",
    "    plt.xlabel('Columnas')\n",
    "    plt.ylabel('Score')\n",
    "    return fs #retornamos el seleccionador de entidades"
   ]
  },
  {
   "cell_type": "code",
   "execution_count": 143,
   "metadata": {},
   "outputs": [],
   "source": [
    "def drop_duplicated(X,y):\n",
    "    #concatenamos los datos para poder identificar duplicados a nivel DataFrame\n",
    "    data=pd.concat([pd.DataFrame(X),pd.Series(y)],axis=1,join='inner')\n",
    "    print('Rows duplicated: {0}'.format(data.duplicated().sum()))\n",
    "    data.drop_duplicates(inplace=True)\n",
    "    #retornamos los datos sin duplicados\n",
    "    return data.iloc[:,:-1].values,data.iloc[:,-1].values"
   ]
  },
  {
   "cell_type": "code",
   "execution_count": 144,
   "metadata": {},
   "outputs": [],
   "source": [
    "#obtenemos los datos\n",
    "X=data.drop('Class',axis=1).values\n",
    "y=data['Class'].values"
   ]
  },
  {
   "cell_type": "code",
   "execution_count": 145,
   "metadata": {},
   "outputs": [
    {
     "data": {
      "image/png": "[encoded data removed]",
      "text/plain": [
       "<Figure size 432x288 with 1 Axes>"
      ]
     },
     "metadata": {},
     "output_type": "display_data"
    }
   ],
   "source": [
    "fs=feature_select(X,y,func=f_classif,n='all')"
   ]
  },
  {
   "cell_type": "code",
   "execution_count": 146,
   "metadata": {},
   "outputs": [
    {
     "data": {
      "text/plain": [
       "array([ 692.03686626,  903.86091471,  931.69646715,  444.63808816,\n",
       "        567.66778993, 1110.55952446,  638.35457582,  594.56207142,\n",
       "         83.65208059])"
      ]
     },
     "execution_count": 146,
     "metadata": {},
     "output_type": "execute_result"
    }
   ],
   "source": [
    "fs.scores_ "
   ]
  },
  {
   "cell_type": "markdown",
   "metadata": {},
   "source": [
    "* Los resultados son muy alentadores, puesto que incluso el valor mas bajo (Puntaje para 'Mitoses') tiene una relacion significativa con la variable de salida"
   ]
  },
  {
   "cell_type": "code",
   "execution_count": 147,
   "metadata": {},
   "outputs": [],
   "source": [
    "#veamos que pasa cuando separamos los datos antes\n",
    "from sklearn.model_selection  import train_test_split\n",
    "Xtrain,Xtest,Ytrain,Ytest= train_test_split(X,y,random_state=0,test_size=0.2,stratify=y)"
   ]
  },
  {
   "cell_type": "code",
   "execution_count": 148,
   "metadata": {},
   "outputs": [
    {
     "data": {
      "image/png": "[encoded data removed]",
      "text/plain": [
       "<Figure size 432x288 with 1 Axes>"
      ]
     },
     "metadata": {},
     "output_type": "display_data"
    }
   ],
   "source": [
    "fs=feature_select(Xtrain,Ytrain,func=f_classif,n=8)"
   ]
  },
  {
   "cell_type": "code",
   "execution_count": 149,
   "metadata": {},
   "outputs": [
    {
     "data": {
      "image/png": "[encoded data removed]",
      "text/plain": [
       "<Figure size 432x288 with 1 Axes>"
      ]
     },
     "metadata": {},
     "output_type": "display_data"
    }
   ],
   "source": [
    "from sklearn.feature_selection import mutual_info_classif\n",
    "fs_mutual= feature_select(Xtrain,Ytrain,func=mutual_info_classif,n='all')"
   ]
  },
  {
   "cell_type": "code",
   "execution_count": 150,
   "metadata": {},
   "outputs": [
    {
     "data": {
      "text/plain": [
       "array([533.31599177, 761.30845246, 722.63425743, 322.87668131,\n",
       "       455.51000484, 834.82942892, 507.13106619, 441.77958374,\n",
       "        66.23576012])"
      ]
     },
     "execution_count": 150,
     "metadata": {},
     "output_type": "execute_result"
    }
   ],
   "source": [
    "fs.scores_"
   ]
  },
  {
   "cell_type": "code",
   "execution_count": 151,
   "metadata": {},
   "outputs": [
    {
     "data": {
      "text/plain": [
       "array([0.30756218, 0.37237638, 0.33820592, 0.24133938, 0.28511329,\n",
       "       0.3498869 , 0.3126609 , 0.2662244 , 0.12466242])"
      ]
     },
     "execution_count": 151,
     "metadata": {},
     "output_type": "execute_result"
    }
   ],
   "source": [
    "\n",
    "#puntaj para ganancia mutua de informacion\n",
    "fs_mutual.scores_ "
   ]
  },
  {
   "cell_type": "code",
   "execution_count": 152,
   "metadata": {},
   "outputs": [],
   "source": [
    "#podemos ver claramente que ahora 'mitoses' es menos relevante, la dejaremos asi, para luego evaluar el rendimiento del modelo\n",
    "# y si hay sobreajuste o subajuste ya tendremos a la caracteristica candidata para la eliminacion\n",
    "#unas horas despues....... Verificaremos los datos\n",
    "#eliminamos 'Mitoses' de los datos\n",
    "#data=data.drop('Mitoses',axis=1)"
   ]
  },
  {
   "cell_type": "code",
   "execution_count": 153,
   "metadata": {},
   "outputs": [
    {
     "data": {
      "text/plain": [
       "252"
      ]
     },
     "execution_count": 153,
     "metadata": {},
     "output_type": "execute_result"
    }
   ],
   "source": [
    "data.duplicated().sum() "
   ]
  },
  {
   "cell_type": "code",
   "execution_count": 154,
   "metadata": {},
   "outputs": [],
   "source": [
    "data.drop_duplicates(inplace=True)"
   ]
  },
  {
   "cell_type": "code",
   "execution_count": 155,
   "metadata": {},
   "outputs": [
    {
     "data": {
      "text/plain": [
       "'\\nX=fs.transform(X)\\nXtrain=fs.transform(Xtrain)\\nXtest=fs.transform(Xtest) '"
      ]
     },
     "execution_count": 155,
     "metadata": {},
     "output_type": "execute_result"
    }
   ],
   "source": [
    "\"\"\"\n",
    "X=fs.transform(X)\n",
    "Xtrain=fs.transform(Xtrain)\n",
    "Xtest=fs.transform(Xtest) \"\"\""
   ]
  },
  {
   "cell_type": "code",
   "execution_count": 156,
   "metadata": {},
   "outputs": [
    {
     "name": "stdout",
     "output_type": "stream",
     "text": [
      "Rows duplicated: 252\n"
     ]
    }
   ],
   "source": [
    "X,y=drop_duplicated(X,y)"
   ]
  },
  {
   "cell_type": "code",
   "execution_count": 157,
   "metadata": {},
   "outputs": [],
   "source": [
    "Xtrain,Xtest,Ytrain,Ytest=train_test_split(X,y,test_size=0.2,random_state=0,stratify=y)"
   ]
  },
  {
   "cell_type": "code",
   "execution_count": 158,
   "metadata": {},
   "outputs": [
    {
     "data": {
      "text/plain": [
       "1    238\n",
       "0    200\n",
       "Name: Class, dtype: int64"
      ]
     },
     "execution_count": 158,
     "metadata": {},
     "output_type": "execute_result"
    }
   ],
   "source": [
    "#Ahora balancearemos los datos.Puesto que\n",
    "data['Class'].value_counts()"
   ]
  },
  {
   "cell_type": "code",
   "execution_count": 159,
   "metadata": {},
   "outputs": [
    {
     "data": {
      "text/plain": [
       "(array([160, 190], dtype=int64), array([40, 48], dtype=int64))"
      ]
     },
     "execution_count": 159,
     "metadata": {},
     "output_type": "execute_result"
    }
   ],
   "source": [
    "np.bincount(Ytrain),np.bincount(Ytest) "
   ]
  },
  {
   "cell_type": "code",
   "execution_count": 160,
   "metadata": {},
   "outputs": [],
   "source": [
    "from imblearn.over_sampling import SMOTE\n",
    "smote=SMOTE(random_state=42)\n"
   ]
  },
  {
   "cell_type": "code",
   "execution_count": 161,
   "metadata": {},
   "outputs": [],
   "source": [
    "Xtrain,Ytrain=smote.fit_sample(Xtrain,Ytrain)"
   ]
  },
  {
   "cell_type": "code",
   "execution_count": 162,
   "metadata": {},
   "outputs": [
    {
     "data": {
      "text/plain": [
       "(array([190, 190], dtype=int64), array([40, 48], dtype=int64))"
      ]
     },
     "execution_count": 162,
     "metadata": {},
     "output_type": "execute_result"
    }
   ],
   "source": [
    "np.bincount(Ytrain),np.bincount(Ytest)"
   ]
  },
  {
   "cell_type": "markdown",
   "metadata": {},
   "source": [
    "### 3.4 Transformacion de datos\n",
    "\n",
    "Una vez elejido las mejoras carateristicas se procede a:\n",
    "* Codificar las Variables de entrada seleccionadas (Si existen dummies). Ojo: La variable de salida al ser categorica ya fue transformada en el proceso de seleccion de caracteristicas y en  mi opinion codificarla para hacer las prueebas correspondientes es una buena practica que suelo hacer a menudo.\n",
    "* Escalar variables "
   ]
  },
  {
   "cell_type": "code",
   "execution_count": 48,
   "metadata": {},
   "outputs": [],
   "source": [
    "#Antes solia hacer el escalado, pero es mejor hacerlo con Pipelines, en el que los escalo antes de entrenarlos"
   ]
  },
  {
   "cell_type": "markdown",
   "metadata": {},
   "source": [
    "### Seleccion del modelo\n",
    "\n",
    "* Haremos un Test con el mejor modelo sobre todos los datos, comparandolos de forma equitativa"
   ]
  },
  {
   "cell_type": "markdown",
   "metadata": {},
   "source": [
    "### 3.1 Elejir el mejor modelo"
   ]
  },
  {
   "cell_type": "code",
   "execution_count": 163,
   "metadata": {},
   "outputs": [],
   "source": [
    "from sklearn.linear_model import LogisticRegression\n",
    "from sklearn.tree import DecisionTreeClassifier\n",
    "from sklearn.ensemble import RandomForestClassifier\n",
    "from sklearn.neighbors import KNeighborsClassifier\n",
    "from sklearn.svm import SVC\n",
    "\n",
    "from sklearn.pipeline import make_pipeline\n",
    "\n",
    "from sklearn.preprocessing import StandardScaler"
   ]
  },
  {
   "cell_type": "code",
   "execution_count": 164,
   "metadata": {},
   "outputs": [],
   "source": [
    "names_model=['Logistic','DecisionTree','RandomForest','SupportVector','KNN']\n",
    "list_model=[LogisticRegression(solver='lbfgs',class_weight='balanced'),\n",
    "            DecisionTreeClassifier(class_weight='balanced'),\n",
    "            RandomForestClassifier(class_weight='balanced'),\n",
    "            SVC(class_weight='balanced'),\n",
    "            KNeighborsClassifier()\n",
    "            \n",
    "           ]\n"
   ]
  },
  {
   "cell_type": "code",
   "execution_count": 165,
   "metadata": {},
   "outputs": [],
   "source": [
    "from sklearn.model_selection import cross_validate\n",
    "from sklearn.model_selection import StratifiedKFold\n",
    "#la seleccion del modelo se hace con todos los datos, tanto de entrenamiento como de Prueba\n",
    "kfold=StratifiedKFold(n_splits=10,random_state=42,shuffle=True)"
   ]
  },
  {
   "cell_type": "code",
   "execution_count": 166,
   "metadata": {},
   "outputs": [],
   "source": [
    "def select_best_model(names_model,list_model,scoring=('accuracy'),X=0,y=0,cv=0):\n",
    "    results={score:{'train':[],\n",
    "                    'test':[]\n",
    "                   } for score in scoring}\n",
    "    for name,model in zip(names_model,list_model):\n",
    "        pipe_model=make_pipeline(StandardScaler(),model)\n",
    "\n",
    "        scores=cross_validate(pipe_model,X ,y,\n",
    "                              cv=cv,\n",
    "                              scoring=scoring,\n",
    "                              n_jobs=-1,\n",
    "                              return_train_score=True,\n",
    "                             )\n",
    "        scores=pd.DataFrame(scores)\n",
    "        #print(scores.head())\n",
    "        for score in scoring:\n",
    "            for site,sc in zip(['train','test'],[score,score]):\n",
    "                results[score][site].append(scores[site+'_'+sc].mean())\n",
    "        print(\"{0} Analizado.. Ok\".format(name))\n",
    "    \n",
    "    rs={key: pd.DataFrame(v,index=names_model) for key,v in results.items()}\n",
    "    return pd.concat(rs,axis=1)\n"
   ]
  },
  {
   "cell_type": "code",
   "execution_count": 167,
   "metadata": {},
   "outputs": [
    {
     "name": "stdout",
     "output_type": "stream",
     "text": [
      "Logistic Analizado.. Ok\n",
      "DecisionTree Analizado.. Ok\n",
      "RandomForest Analizado.. Ok\n",
      "SupportVector Analizado.. Ok\n",
      "KNN Analizado.. Ok\n"
     ]
    }
   ],
   "source": [
    "data_score=select_best_model(names_model,list_model,scoring=('accuracy','f1'),X=X,y=y,cv=kfold)"
   ]
  },
  {
   "cell_type": "code",
   "execution_count": 168,
   "metadata": {},
   "outputs": [
    {
     "data": {
      "text/html": [
       "<div>\n",
       "<style scoped>\n",
       "    .dataframe tbody tr th:only-of-type {\n",
       "        vertical-align: middle;\n",
       "    }\n",
       "\n",
       "    .dataframe tbody tr th {\n",
       "        vertical-align: top;\n",
       "    }\n",
       "\n",
       "    .dataframe thead tr th {\n",
       "        text-align: left;\n",
       "    }\n",
       "</style>\n",
       "<table border=\"1\" class=\"dataframe\">\n",
       "  <thead>\n",
       "    <tr>\n",
       "      <th></th>\n",
       "      <th colspan=\"2\" halign=\"left\">accuracy</th>\n",
       "      <th colspan=\"2\" halign=\"left\">f1</th>\n",
       "    </tr>\n",
       "    <tr>\n",
       "      <th></th>\n",
       "      <th>train</th>\n",
       "      <th>test</th>\n",
       "      <th>train</th>\n",
       "      <th>test</th>\n",
       "    </tr>\n",
       "  </thead>\n",
       "  <tbody>\n",
       "    <tr>\n",
       "      <th>Logistic</th>\n",
       "      <td>0.954592</td>\n",
       "      <td>0.952114</td>\n",
       "      <td>0.957746</td>\n",
       "      <td>0.954434</td>\n",
       "    </tr>\n",
       "    <tr>\n",
       "      <th>DecisionTree</th>\n",
       "      <td>1.000000</td>\n",
       "      <td>0.892812</td>\n",
       "      <td>1.000000</td>\n",
       "      <td>0.899913</td>\n",
       "    </tr>\n",
       "    <tr>\n",
       "      <th>RandomForest</th>\n",
       "      <td>1.000000</td>\n",
       "      <td>0.931607</td>\n",
       "      <td>1.000000</td>\n",
       "      <td>0.937494</td>\n",
       "    </tr>\n",
       "    <tr>\n",
       "      <th>SupportVector</th>\n",
       "      <td>0.961441</td>\n",
       "      <td>0.940751</td>\n",
       "      <td>0.964363</td>\n",
       "      <td>0.944642</td>\n",
       "    </tr>\n",
       "    <tr>\n",
       "      <th>KNN</th>\n",
       "      <td>0.954592</td>\n",
       "      <td>0.940645</td>\n",
       "      <td>0.957891</td>\n",
       "      <td>0.943680</td>\n",
       "    </tr>\n",
       "  </tbody>\n",
       "</table>\n",
       "</div>"
      ],
      "text/plain": [
       "               accuracy                  f1          \n",
       "                  train      test     train      test\n",
       "Logistic       0.954592  0.952114  0.957746  0.954434\n",
       "DecisionTree   1.000000  0.892812  1.000000  0.899913\n",
       "RandomForest   1.000000  0.931607  1.000000  0.937494\n",
       "SupportVector  0.961441  0.940751  0.964363  0.944642\n",
       "KNN            0.954592  0.940645  0.957891  0.943680"
      ]
     },
     "execution_count": 168,
     "metadata": {},
     "output_type": "execute_result"
    }
   ],
   "source": [
    "data_score"
   ]
  },
  {
   "cell_type": "code",
   "execution_count": 169,
   "metadata": {},
   "outputs": [
    {
     "data": {
      "text/plain": [
       "<matplotlib.axes._subplots.AxesSubplot at 0x213e6245308>"
      ]
     },
     "execution_count": 169,
     "metadata": {},
     "output_type": "execute_result"
    },
    {
     "data": {
      "image/png": "[encoded data removed]",
      "text/plain": [
       "<Figure size 432x288 with 1 Axes>"
      ]
     },
     "metadata": {},
     "output_type": "display_data"
    },
    {
     "data": {
      "image/png": "[encoded data removed]",
      "text/plain": [
       "<Figure size 432x288 with 1 Axes>"
      ]
     },
     "metadata": {},
     "output_type": "display_data"
    }
   ],
   "source": [
    "data_score['accuracy'].plot(kind='bar',title='Accuracy scores')\n",
    "data_score['f1'].plot(kind='bar',title='F1 scores')"
   ]
  },
  {
   "cell_type": "markdown",
   "metadata": {},
   "source": [
    "* De los graficos anteriores podemos deducir que por cada metrica y conjunto de datos independiente. Tenemos un margen de sobreajuste a los datos .\n",
    "\n",
    "* La razon por la que elejimos la metrica **'F1'** es porque es maz veraz en los resultados que **'accuracy'**, es porque nuestro conjunto de datos presenta datos desbalanceados.\n",
    "* Entonces tomando en cuenta el mejor puntaje en la **F1**,( sin dejar de lado el **accuracy**), la mejor puntuacion la posee **Logistic Regression**, seguido de **Support Vector Classifier**"
   ]
  },
  {
   "cell_type": "markdown",
   "metadata": {},
   "source": [
    "### 3.2 Ajustar el modelo\n",
    "* Esta parte consta de ajustar los hiperparametros del modelo\n",
    "* Validaciones cruzadas para el conjunto de Train y Validacion (Implicita)\n",
    "* El conjunto de Testeo debe estar excluido de los resltado de entrenamiento"
   ]
  },
  {
   "cell_type": "code",
   "execution_count": 195,
   "metadata": {},
   "outputs": [],
   "source": [
    "from sklearn.pipeline import Pipeline \n",
    "model=Pipeline(steps=[\n",
    "    ('scaler',StandardScaler()),\n",
    "    ('svc',SVC(class_weight='balanced',kernel='rbf'))\n",
    "])"
   ]
  },
  {
   "cell_type": "code",
   "execution_count": 171,
   "metadata": {},
   "outputs": [],
   "source": [
    "#ahora veamos el comportamiento del modelo en el conjunto de entrenamiento que es el que se utilizara de apartir en adelante\n",
    "def cross_validation(model,X=None,y=None,scoring=tuple(),cv=None):\n",
    "\n",
    "    scores=cross_validate(model,X,y,\n",
    "                              cv=cv,\n",
    "                              scoring=scoring,\n",
    "                              n_jobs=-1,\n",
    "                              return_train_score=True,\n",
    "                             )\n",
    "    score_mean=pd.DataFrame(scores).mean(axis=0)\n",
    "    score_std=pd.DataFrame(scores).std(axis=0)\n",
    "    scores=pd.concat([score_mean,score_std],axis=1,keys=['Mean','Std'])\n",
    "    \n",
    "    print(scores)"
   ]
  },
  {
   "cell_type": "code",
   "execution_count": 196,
   "metadata": {},
   "outputs": [
    {
     "name": "stdout",
     "output_type": "stream",
     "text": [
      "                    Mean       Std\n",
      "fit_time        0.018669  0.013519\n",
      "score_time      0.008388  0.008488\n",
      "test_accuracy   0.947368  0.024811\n",
      "train_accuracy  0.960526  0.004192\n",
      "test_f1         0.947778  0.023744\n",
      "train_f1        0.960287  0.004163\n"
     ]
    }
   ],
   "source": [
    "cross_validation(model,Xtrain,Ytrain,scoring=('accuracy','f1'),cv=kfold)"
   ]
  },
  {
   "cell_type": "code",
   "execution_count": 73,
   "metadata": {},
   "outputs": [],
   "source": [
    "#vemos que esta sobreajustado un poco asi que lo solucionaremos\n",
    "from sklearn.model_selection import GridSearchCV\n",
    "from sklearn.model_selection import RandomizedSearchCV"
   ]
  },
  {
   "cell_type": "code",
   "execution_count": 173,
   "metadata": {},
   "outputs": [],
   "source": [
    "def tuning_parameters(model,param_grid,scoring='accuracy',cv=7,X=None,y=None): \n",
    "    grid=GridSearchCV(estimator=model,\n",
    "                      param_grid=param_grid,\n",
    "                      scoring=scoring,\n",
    "                      cv=kfold,\n",
    "                      n_jobs=-1,\n",
    "                      verbose=2\n",
    "                     )\n",
    "    grid.fit(X,y);\n",
    "    print(\"Best Parameters: {0}\".format(grid.best_params_))\n",
    "    print(\"Best score:      {0}\".format(grid.best_score_))\n",
    "    \n",
    "    return grid"
   ]
  },
  {
   "cell_type": "code",
   "execution_count": 197,
   "metadata": {},
   "outputs": [
    {
     "name": "stdout",
     "output_type": "stream",
     "text": [
      "Fitting 10 folds for each of 36 candidates, totalling 360 fits\n"
     ]
    },
    {
     "name": "stderr",
     "output_type": "stream",
     "text": [
      "[Parallel(n_jobs=-1)]: Using backend LokyBackend with 2 concurrent workers.\n",
      "[Parallel(n_jobs=-1)]: Done 158 tasks      | elapsed:    2.0s\n"
     ]
    },
    {
     "name": "stdout",
     "output_type": "stream",
     "text": [
      "Best Parameters: {'svc__C': 10, 'svc__gamma': 0.01}\n",
      "Best score:      0.9447368421052632\n"
     ]
    },
    {
     "name": "stderr",
     "output_type": "stream",
     "text": [
      "[Parallel(n_jobs=-1)]: Done 360 out of 360 | elapsed:    6.3s finished\n"
     ]
    }
   ],
   "source": [
    "param_grid=dict(svc__C=10**np.arange(6),\n",
    "                svc__gamma=[0.000001,0.00001,0.0001,0.001,0.01,0.01]\n",
    "               )\n",
    "grid=tuning_parameters(model,param_grid,scoring='accuracy',cv=kfold,X=Xtrain,y=Ytrain)"
   ]
  },
  {
   "cell_type": "code",
   "execution_count": 198,
   "metadata": {},
   "outputs": [],
   "source": [
    "model=grid.best_estimator_ "
   ]
  },
  {
   "cell_type": "code",
   "execution_count": 199,
   "metadata": {},
   "outputs": [
    {
     "name": "stdout",
     "output_type": "stream",
     "text": [
      "                    Mean       Std\n",
      "fit_time        0.016472  0.007159\n",
      "score_time      0.007989  0.000942\n",
      "test_accuracy   0.944737  0.026169\n",
      "train_accuracy  0.955556  0.002687\n",
      "test_f1         0.943976  0.025715\n",
      "train_f1        0.954995  0.002860\n"
     ]
    }
   ],
   "source": [
    "cross_validation(model,Xtrain,Ytrain,scoring=('accuracy','f1'),cv=kfold)"
   ]
  },
  {
   "cell_type": "code",
   "execution_count": 95,
   "metadata": {},
   "outputs": [],
   "source": [
    "from sklearn.model_selection import validation_curve\n"
   ]
  },
  {
   "cell_type": "code",
   "execution_count": 108,
   "metadata": {},
   "outputs": [],
   "source": [
    "def validation_parameter(model,X,y,param_name,param_range,cv=7):\n",
    "    \n",
    "    train_score,test_score=validation_curve(model,X,y,\n",
    "                                       param_name=param_name,\n",
    "                                        param_range=param_range,\n",
    "                                        cv=cv,\n",
    "                                        n_jobs=-1\n",
    "                                       )\n",
    "    train_mean=train_score.mean(axis=1)\n",
    "    train_std=train_score.std(axis=1)\n",
    "\n",
    "    test_mean=test_score.mean(axis=1)\n",
    "    test_std=test_score.std(axis=1)\n",
    "\n",
    "    plt.plot(param_range,train_mean,'-b',label='Train')\n",
    "    plt.fill_between(param_range,train_mean+train_std,train_mean-train_std,alpha=0.3)\n",
    "\n",
    "    plt.plot(param_range,test_mean,'-r',label='Test')\n",
    "    plt.fill_between(param_range,test_mean+test_std,test_mean-test_std,alpha=0.3)\n",
    "    plt.legend(loc='best')\n",
    "    "
   ]
  },
  {
   "cell_type": "markdown",
   "metadata": {},
   "source": [
    "### 3.3 Validacion del modelo final\n",
    "* A esta fase se llega solo si se logra obtener un equilibrio entre el sobreajuste ysubajuste de datos"
   ]
  },
  {
   "cell_type": "code",
   "execution_count": 206,
   "metadata": {},
   "outputs": [],
   "source": [
    "# LogisticRegression: 96.590909% de precision | 97% de F1 -> Sin sobre/sub ajuste\n",
    "# RandomForest : 95.4545% de precision | 95% de F1\n",
    "#SVC: 95.5% precision |  97% F1\n"
   ]
  },
  {
   "cell_type": "code",
   "execution_count": 200,
   "metadata": {},
   "outputs": [],
   "source": [
    "model.fit(Xtrain,Ytrain);"
   ]
  },
  {
   "cell_type": "code",
   "execution_count": 201,
   "metadata": {},
   "outputs": [],
   "source": [
    "Ypred=model.predict(Xtest)"
   ]
  },
  {
   "cell_type": "code",
   "execution_count": 180,
   "metadata": {},
   "outputs": [],
   "source": [
    "from sklearn.metrics import classification_report,accuracy_score"
   ]
  },
  {
   "cell_type": "code",
   "execution_count": 202,
   "metadata": {},
   "outputs": [
    {
     "data": {
      "text/plain": [
       "0.9659090909090909"
      ]
     },
     "execution_count": 202,
     "metadata": {},
     "output_type": "execute_result"
    }
   ],
   "source": [
    "accuracy_score(Ytest,Ypred)"
   ]
  },
  {
   "cell_type": "code",
   "execution_count": 204,
   "metadata": {},
   "outputs": [
    {
     "name": "stdout",
     "output_type": "stream",
     "text": [
      "              precision    recall  f1-score   support\n",
      "\n",
      "      benign       0.95      0.97      0.96        40\n",
      "      malign       0.98      0.96      0.97        48\n",
      "\n",
      "    accuracy                           0.97        88\n",
      "   macro avg       0.96      0.97      0.97        88\n",
      "weighted avg       0.97      0.97      0.97        88\n",
      "\n"
     ]
    }
   ],
   "source": [
    "print(classification_report(Ytest,Ypred,target_names=['benign','malign']))"
   ]
  },
  {
   "cell_type": "code",
   "execution_count": 183,
   "metadata": {},
   "outputs": [],
   "source": [
    "from sklearn.metrics import confusion_matrix"
   ]
  },
  {
   "cell_type": "code",
   "execution_count": 205,
   "metadata": {},
   "outputs": [
    {
     "name": "stdout",
     "output_type": "stream",
     "text": [
      "[[39  1]\n",
      " [ 2 46]]\n"
     ]
    },
    {
     "data": {
      "text/plain": [
       "<matplotlib.axes._subplots.AxesSubplot at 0x213e5da31c8>"
      ]
     },
     "execution_count": 205,
     "metadata": {},
     "output_type": "execute_result"
    },
    {
     "data": {
      "image/png": "[encoded data removed]",
      "text/plain": [
       "<Figure size 432x288 with 2 Axes>"
      ]
     },
     "metadata": {},
     "output_type": "display_data"
    }
   ],
   "source": [
    "labels=['benign','malign']\n",
    "conf=confusion_matrix(Ytest,Ypred)\n",
    "print(conf)\n",
    "sns.heatmap(conf,annot=True,fmt='.2f',xticklabels=labels,yticklabels=labels,square=True)"
   ]
  },
  {
   "cell_type": "code",
   "execution_count": 186,
   "metadata": {},
   "outputs": [],
   "source": [
    "#est es increible podemos notar resultados muy prometedores para la solucion de nuestro problema. \n",
    "#Ya existe un equilibrio entre sesgo y varianza. ...Pero nos damos cuenta de algo. Los valores duplicados en el datset\n",
    "#por lo tanto procedemos a guardar el modelo\n",
    "import joblib\n"
   ]
  },
  {
   "cell_type": "code",
   "execution_count": 207,
   "metadata": {},
   "outputs": [
    {
     "data": {
      "text/plain": [
       "['breast_cancerSupportVectorV0.1.pkl']"
      ]
     },
     "execution_count": 207,
     "metadata": {},
     "output_type": "execute_result"
    }
   ],
   "source": [
    "joblib.dump(model,'breast_cancerSupportVectorV0.1.pkl')"
   ]
  },
  {
   "cell_type": "code",
   "execution_count": 208,
   "metadata": {},
   "outputs": [],
   "source": [
    "#mañana continuamos con la implementacion del mejor modelo, puesto que echamos de menos los duplicacdos\n",
    "#con la elimnacion de los duplicados obtuvimos datos mas sinceros debidoa que a la precesnia de duplicados cierta proporcion se destinaba\n",
    "#al los datos de entreamiento y a otra a la de Test, lo que impedi un poco al enfrentarse a datos reales"
   ]
  },
  {
   "cell_type": "markdown",
   "metadata": {},
   "source": [
    "## Stacking de modelos ML\n",
    "* Una vez seleccionado obtenido y entrenado los mejores modelos, entonces procederemos a hacer un Stacking de apilamiento de modelo, si jay mejoras combinando los modelos, nos uedamos con el Satacking y si por el contrario hay yn clasificador que lo hace mejor que este, entonnces, lo escogemos a él por su simplicidad"
   ]
  },
  {
   "cell_type": "code",
   "execution_count": 209,
   "metadata": {},
   "outputs": [
    {
     "data": {
      "text/plain": [
       "'0.22.1'"
      ]
     },
     "execution_count": 209,
     "metadata": {},
     "output_type": "execute_result"
    }
   ],
   "source": [
    "import sklearn\n",
    "\n",
    "sklearn.__version__"
   ]
  },
  {
   "cell_type": "code",
   "execution_count": 210,
   "metadata": {},
   "outputs": [],
   "source": [
    "def cargar_modelos():\n",
    "    randomForest=joblib.load('breast_cancerRandomForestV0.1.pkl')\n",
    "    logistic=joblib.load('breast_cancerLogisticRegressionV0.3.pkl') \n",
    "    supportVector= joblib.load('breast_cancerSupportVectorV0.1.pkl')\n",
    "    kneighbors=joblib.load('breast_cancerKNeighborsV0.1.pkl')\n",
    "    \n",
    "    return [randomForest,logistic,supportVector,kneighbors]"
   ]
  },
  {
   "cell_type": "code",
   "execution_count": 211,
   "metadata": {},
   "outputs": [],
   "source": [
    "names_models=['RandomForest','LogisticRegression','SupportVector','Kneighbors']"
   ]
  },
  {
   "cell_type": "code",
   "execution_count": 212,
   "metadata": {},
   "outputs": [],
   "source": [
    "list_models=cargar_modelos()\n",
    "base_learners=[(name,model.steps[1][1]) for name,model in zip(names_models[:-1],list_models[:-1])]\n",
    "base_learners.append((names_models[-1],list_models[-1]))"
   ]
  },
  {
   "cell_type": "code",
   "execution_count": 214,
   "metadata": {},
   "outputs": [],
   "source": [
    "from sklearn.ensemble import StackingClassifier\n",
    "stacking=StackingClassifier(estimators=base_learners,\n",
    "                            final_estimator=LogisticRegression(class_weight='balanced'),\n",
    "                            cv=kfold,\n",
    "                            n_jobs=-1\n",
    "                           )"
   ]
  },
  {
   "cell_type": "code",
   "execution_count": 215,
   "metadata": {},
   "outputs": [],
   "source": [
    "list_models.append(stacking)\n",
    "names_models.append('StackingClassifier')"
   ]
  },
  {
   "cell_type": "code",
   "execution_count": 216,
   "metadata": {
    "scrolled": true
   },
   "outputs": [
    {
     "name": "stdout",
     "output_type": "stream",
     "text": [
      "RandomForest Analizado.. Ok\n",
      "LogisticRegression Analizado.. Ok\n",
      "SupportVector Analizado.. Ok\n",
      "Kneighbors Analizado.. Ok\n",
      "StackingClassifier Analizado.. Ok\n"
     ]
    }
   ],
   "source": [
    "df=select_best_model(names_models,list_models,scoring=('accuracy','f1'),X=X,y=y,cv=kfold)"
   ]
  },
  {
   "cell_type": "code",
   "execution_count": 217,
   "metadata": {},
   "outputs": [
    {
     "data": {
      "text/html": [
       "<div>\n",
       "<style scoped>\n",
       "    .dataframe tbody tr th:only-of-type {\n",
       "        vertical-align: middle;\n",
       "    }\n",
       "\n",
       "    .dataframe tbody tr th {\n",
       "        vertical-align: top;\n",
       "    }\n",
       "\n",
       "    .dataframe thead tr th {\n",
       "        text-align: left;\n",
       "    }\n",
       "</style>\n",
       "<table border=\"1\" class=\"dataframe\">\n",
       "  <thead>\n",
       "    <tr>\n",
       "      <th></th>\n",
       "      <th colspan=\"2\" halign=\"left\">accuracy</th>\n",
       "      <th colspan=\"2\" halign=\"left\">f1</th>\n",
       "    </tr>\n",
       "    <tr>\n",
       "      <th></th>\n",
       "      <th>train</th>\n",
       "      <th>test</th>\n",
       "      <th>train</th>\n",
       "      <th>test</th>\n",
       "    </tr>\n",
       "  </thead>\n",
       "  <tbody>\n",
       "    <tr>\n",
       "      <th>RandomForest</th>\n",
       "      <td>0.954847</td>\n",
       "      <td>0.945296</td>\n",
       "      <td>0.958307</td>\n",
       "      <td>0.948905</td>\n",
       "    </tr>\n",
       "    <tr>\n",
       "      <th>LogisticRegression</th>\n",
       "      <td>0.954592</td>\n",
       "      <td>0.952114</td>\n",
       "      <td>0.957746</td>\n",
       "      <td>0.954434</td>\n",
       "    </tr>\n",
       "    <tr>\n",
       "      <th>SupportVector</th>\n",
       "      <td>0.955099</td>\n",
       "      <td>0.945296</td>\n",
       "      <td>0.958300</td>\n",
       "      <td>0.948372</td>\n",
       "    </tr>\n",
       "    <tr>\n",
       "      <th>Kneighbors</th>\n",
       "      <td>0.954592</td>\n",
       "      <td>0.940645</td>\n",
       "      <td>0.957891</td>\n",
       "      <td>0.943680</td>\n",
       "    </tr>\n",
       "    <tr>\n",
       "      <th>StackingClassifier</th>\n",
       "      <td>0.955607</td>\n",
       "      <td>0.947569</td>\n",
       "      <td>0.958729</td>\n",
       "      <td>0.950254</td>\n",
       "    </tr>\n",
       "  </tbody>\n",
       "</table>\n",
       "</div>"
      ],
      "text/plain": [
       "                    accuracy                  f1          \n",
       "                       train      test     train      test\n",
       "RandomForest        0.954847  0.945296  0.958307  0.948905\n",
       "LogisticRegression  0.954592  0.952114  0.957746  0.954434\n",
       "SupportVector       0.955099  0.945296  0.958300  0.948372\n",
       "Kneighbors          0.954592  0.940645  0.957891  0.943680\n",
       "StackingClassifier  0.955607  0.947569  0.958729  0.950254"
      ]
     },
     "execution_count": 217,
     "metadata": {},
     "output_type": "execute_result"
    }
   ],
   "source": [
    "df  "
   ]
  },
  {
   "cell_type": "code",
   "execution_count": 218,
   "metadata": {},
   "outputs": [
    {
     "data": {
      "text/plain": [
       "<matplotlib.axes._subplots.AxesSubplot at 0x213e993d388>"
      ]
     },
     "execution_count": 218,
     "metadata": {},
     "output_type": "execute_result"
    },
    {
     "data": {
      "image/png": "[encoded data removed]",
      "text/plain": [
       "<Figure size 432x288 with 1 Axes>"
      ]
     },
     "metadata": {},
     "output_type": "display_data"
    },
    {
     "data": {
      "image/png": "[encoded data removed]",
      "text/plain": [
       "<Figure size 432x288 with 1 Axes>"
      ]
     },
     "metadata": {},
     "output_type": "display_data"
    }
   ],
   "source": [
    "df['accuracy'].plot(kind='bar',title='Accuracy Models')\n",
    "df['f1'].plot(kind='bar',title='F1 Models')"
   ]
  },
  {
   "cell_type": "markdown",
   "metadata": {},
   "source": [
    "* Podemos observar que el modelo de ensamblado no logro superar a **Logistic Regression** sobre los demas modelos por lo tanto, nos quedamos con este ultimo como modelo final listo para produccion. En todo caso hemos guardado el resto de modelos por presentar puntajes similares"
   ]
  },
  {
   "cell_type": "code",
   "execution_count": 219,
   "metadata": {},
   "outputs": [],
   "source": [
    "best_model=list_models[1]"
   ]
  },
  {
   "cell_type": "code",
   "execution_count": 220,
   "metadata": {},
   "outputs": [
    {
     "data": {
      "text/plain": [
       "['BestModel_breastCancer.pkl']"
      ]
     },
     "execution_count": 220,
     "metadata": {},
     "output_type": "execute_result"
    }
   ],
   "source": [
    "joblib.dump(best_model,'BestModel_breastCancer.pkl')"
   ]
  },
  {
   "cell_type": "markdown",
   "metadata": {},
   "source": [
    "* En conclucion desde mi punto de vista, el proyecto a concluido y ahora podemos hacer uso de **BestModel_breastCancer.pkl** como el mejor modelo a usar, listo para produccion."
   ]
  }
 ],
 "metadata": {
  "kernelspec": {
   "display_name": "Python 3",
   "language": "python",
   "name": "python3"
  },
  "language_info": {
   "codemirror_mode": {
    "name": "ipython",
    "version": 3
   },
   "file_extension": ".py",
   "mimetype": "text/x-python",
   "name": "python",
   "nbconvert_exporter": "python",
   "pygments_lexer": "ipython3",
   "version": "3.7.7"
  }
 },
 "nbformat": 4,
 "nbformat_minor": 4
}
